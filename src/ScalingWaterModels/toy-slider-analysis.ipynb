{
 "cells": [
  {
   "cell_type": "code",
   "execution_count": 44,
   "metadata": {
    "collapsed": false
   },
   "outputs": [],
   "source": [
    "import numpy as np\n",
    "from load_data import *\n",
    "Data1 = load_data(filename=\"../Data/a2_01_3.pkl\")\n",
    "Data2 = load_data(filename=\"../Data/a2_03_3.pkl\")\n",
    "x01,y01 = Data2[\"TMD\"]\n",
    "x41,y41 = Data2[\"KtM\"]"
   ]
  },
  {
   "cell_type": "code",
   "execution_count": 45,
   "metadata": {
    "collapsed": false
   },
   "outputs": [
    {
     "name": "stdout",
     "output_type": "stream",
     "text": [
      "[  1.02416196e-08   5.49715723e-01  -1.20040080e+00]\n"
     ]
    }
   ],
   "source": [
    "import numpy as np\n",
    "\n",
    "mymin = 20.\n",
    "min = lambda x,y : x if x <= y else y\n",
    "max = lambda x,y : x if x >= y else y\n",
    "t1m,p1m = 0.,0.#np.mean(x01),np.mean(y01)\n",
    "t2m,p2m = 0.,0.#np.mean(x41),np.mean(y41)\n",
    "for T1,P1 in zip(x01,y01):\n",
    "    t1,p1 = T1-t1m, P1-p1m\n",
    "    for T2,P2 in zip(x41,y41):\n",
    "        t2,p2 = T2-t2m,P2-p2m\n",
    "        newmin = min(mymin,(t1-t2)**2/(min(t1**2,t2**2)) + (p1-p2)**2/(min(p1**2,p2**2)))\n",
    "        if newmin < mymin and P2 < 5. and P2 > -5. and T2 > 0.4:\n",
    "            res = np.array([newmin,T2,P2])\n",
    "            mymin = newmin\n",
    "\n",
    "print(res)"
   ]
  },
  {
   "cell_type": "code",
   "execution_count": 22,
   "metadata": {
    "collapsed": false
   },
   "outputs": [
    {
     "data": {
      "text/plain": [
       "0.070000001467127537"
      ]
     },
     "execution_count": 22,
     "metadata": {},
     "output_type": "execute_result"
    }
   ],
   "source": [
    "find_nearest = lambda x,a0 : x.flat[np.abs(x - a0).argmin()]\n",
    "find_nearest(x01,0.0697)"
   ]
  },
  {
   "cell_type": "code",
   "execution_count": null,
   "metadata": {
    "collapsed": true
   },
   "outputs": [],
   "source": []
  }
 ],
 "metadata": {
  "kernelspec": {
   "display_name": "Python 3",
   "language": "python",
   "name": "python3"
  },
  "language_info": {
   "codemirror_mode": {
    "name": "ipython",
    "version": 3
   },
   "file_extension": ".py",
   "mimetype": "text/x-python",
   "name": "python",
   "nbconvert_exporter": "python",
   "pygments_lexer": "ipython3",
   "version": "3.5.2"
  }
 },
 "nbformat": 4,
 "nbformat_minor": 2
}
