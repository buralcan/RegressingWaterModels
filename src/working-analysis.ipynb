{
 "cells": [
  {
   "cell_type": "code",
   "execution_count": 1,
   "metadata": {
    "collapsed": false,
    "deletable": true,
    "editable": true
   },
   "outputs": [],
   "source": [
    "%load_ext autoreload\n",
    "%autoreload 2"
   ]
  },
  {
   "cell_type": "code",
   "execution_count": 2,
   "metadata": {
    "collapsed": false,
    "deletable": true,
    "editable": true
   },
   "outputs": [],
   "source": [
    "import ThermoFit as therm\n",
    "import OneDFit as od\n",
    "import numpy as np\n",
    "\n",
    "tc, pc, rhoc = 215., 338., 0.05939\n",
    "mys = od.SpinodalFit(\"./Data/compiledEOSAll\",230.)\n",
    "mys.setCriticalPt(tc,pc,rhoc)\n",
    "mys.fitParams[\"A(T) params\"] = np.poly1d([-0.0822462,-0.0547873])\n",
    "mys.fitParams[\"P(T) params\"] = np.poly1d([-7.61e-05*tc*tc,0.0305542*tc,-292.0177]) #unit conversion\n",
    "Model = therm.ThermoPPty(\"./Data/testdensity.dat\",Tc=tc,Pc=pc,Rhoc=rhoc,spinodal=mys)"
   ]
  },
  {
   "cell_type": "code",
   "execution_count": 3,
   "metadata": {
    "collapsed": false,
    "deletable": true,
    "editable": true
   },
   "outputs": [
    {
     "name": "stdout",
     "output_type": "stream",
     "text": [
      "<At this given state with T=200.000000 and P=-100.000000, the response functions are the following>\t\t\n",
      "Density is 961.730587 kg/m^3\n",
      "c_P is 4104.330509 J.(kgK)^-1\n",
      "c_V is 7004.961557 J.(kgK)^-1\n",
      "k_T is -0.000206 MPa^-1\n",
      "alpha_p\t\tis 0.001695 K^-1\n",
      "c_s is nan\n",
      "\n"
     ]
    }
   ],
   "source": [
    "x = np.loadtxt('./Data/test_fit')\n",
    "Model.setValues(x)\n",
    "print(Model.__str__(T=200.,P=-100.))"
   ]
  },
  {
   "cell_type": "code",
   "execution_count": null,
   "metadata": {
    "collapsed": true,
    "deletable": true,
    "editable": true
   },
   "outputs": [],
   "source": []
  }
 ],
 "metadata": {
  "kernelspec": {
   "display_name": "Python 3",
   "language": "python",
   "name": "python3"
  },
  "language_info": {
   "codemirror_mode": {
    "name": "ipython",
    "version": 3
   },
   "file_extension": ".py",
   "mimetype": "text/x-python",
   "name": "python",
   "nbconvert_exporter": "python",
   "pygments_lexer": "ipython3",
   "version": "3.5.2"
  }
 },
 "nbformat": 4,
 "nbformat_minor": 2
}
